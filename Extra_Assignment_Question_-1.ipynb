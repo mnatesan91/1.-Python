{
 "cells": [
  {
   "cell_type": "code",
   "execution_count": 1,
   "id": "76d234a6-5de1-48c1-b4a5-c808a5cc570f",
   "metadata": {},
   "outputs": [
    {
     "name": "stdout",
     "output_type": "stream",
     "text": [
      "HOPE AI\n"
     ]
    }
   ],
   "source": [
    "print(\"HOPE AI\")"
   ]
  },
  {
   "cell_type": "code",
   "execution_count": 9,
   "id": "9248d1a7-369c-492c-a96d-0f8a2446e20f",
   "metadata": {},
   "outputs": [
    {
     "name": "stdin",
     "output_type": "stream",
     "text": [
      "Enter your institute name? : HOPE AI\n"
     ]
    },
    {
     "name": "stdout",
     "output_type": "stream",
     "text": [
      "HOPE AI\n"
     ]
    }
   ],
   "source": [
    "Institution=input(\"Enter your institute name? :\")\n",
    "print(Institution)"
   ]
  },
  {
   "cell_type": "code",
   "execution_count": 21,
   "id": "51b4d69e-0f44-4691-9d9a-d0b3cb1ff573",
   "metadata": {},
   "outputs": [
    {
     "name": "stdin",
     "output_type": "stream",
     "text": [
      "Enter your name:  Raj\n",
      "Enter your age:  15\n",
      "Enter your school name:  Guru school\n",
      "Enter your drgree:  SSLC\n"
     ]
    },
    {
     "name": "stdout",
     "output_type": "stream",
     "text": [
      "\n",
      " Raj \n",
      " 15 \n",
      " Guru school \n",
      " SSLC\n"
     ]
    }
   ],
   "source": [
    "name=input(\"Enter your name: \")\n",
    "age=input(\"Enter your age: \")\n",
    "school_name=input(\"Enter your school name: \")\n",
    "degree=input(\"Enter your drgree: \")\n",
    "print('\\n',name,'\\n',age,'\\n',school_name,'\\n',degree)\n"
   ]
  },
  {
   "cell_type": "code",
   "execution_count": 27,
   "id": "24aa44ca-262c-49b4-b180-98cd4d6bb93c",
   "metadata": {},
   "outputs": [
    {
     "name": "stdin",
     "output_type": "stream",
     "text": [
      "a= 40\n",
      "b= 50\n"
     ]
    },
    {
     "name": "stdout",
     "output_type": "stream",
     "text": [
      "add=  90\n"
     ]
    }
   ],
   "source": [
    "a=int(input(\"a=\" )) \n",
    "b=int(input(\"b=\" )) \n",
    "add=a+b\n",
    "print(\"add= \",add)\n"
   ]
  },
  {
   "cell_type": "code",
   "execution_count": 29,
   "id": "498554bc-8ca9-41b8-a720-194aaed88307",
   "metadata": {},
   "outputs": [
    {
     "name": "stdin",
     "output_type": "stream",
     "text": [
      "a= 50\n",
      "b= 40\n"
     ]
    },
    {
     "name": "stdout",
     "output_type": "stream",
     "text": [
      "sub=  10\n"
     ]
    }
   ],
   "source": [
    "a=int(input(\"a=\" )) \n",
    "b=int(input(\"b=\" )) \n",
    "sub=a-b\n",
    "print(\"sub= \",sub)"
   ]
  },
  {
   "cell_type": "code",
   "execution_count": 31,
   "id": "02995af4-fe04-4e4f-8c1a-8896d13cc79c",
   "metadata": {},
   "outputs": [
    {
     "name": "stdin",
     "output_type": "stream",
     "text": [
      "a= 10\n",
      "b= 20\n"
     ]
    },
    {
     "name": "stdout",
     "output_type": "stream",
     "text": [
      "mul=  200\n"
     ]
    }
   ],
   "source": [
    "a=int(input(\"a=\" )) \n",
    "b=int(input(\"b=\" )) \n",
    "mul=a*b\n",
    "print(\"mul= \",mul)"
   ]
  },
  {
   "cell_type": "code",
   "execution_count": null,
   "id": "04447da1-3c4c-4e1a-b264-b197a58d2555",
   "metadata": {},
   "outputs": [],
   "source": []
  },
  {
   "cell_type": "code",
   "execution_count": 35,
   "id": "3611678c-c845-4572-b476-af44dd310ddf",
   "metadata": {},
   "outputs": [
    {
     "name": "stdin",
     "output_type": "stream",
     "text": [
      "a= 10\n",
      "b= 100\n"
     ]
    },
    {
     "name": "stdout",
     "output_type": "stream",
     "text": [
      "Float Div=  0.1\n"
     ]
    }
   ],
   "source": [
    "a=int(input(\"a=\" )) \n",
    "b=int(input(\"b=\" )) \n",
    "div=a/b\n",
    "print(\"Float Div= \",div)"
   ]
  },
  {
   "cell_type": "code",
   "execution_count": 39,
   "id": "60a30c71-0ed5-45dc-a105-9a39bf742c2d",
   "metadata": {},
   "outputs": [
    {
     "name": "stdin",
     "output_type": "stream",
     "text": [
      "a= 76\n",
      "b= 31\n"
     ]
    },
    {
     "name": "stdout",
     "output_type": "stream",
     "text": [
      "Floor Div=  2\n"
     ]
    }
   ],
   "source": [
    "a=int(input(\"a=\" )) \n",
    "b=int(input(\"b=\" )) \n",
    "floor=a//b\n",
    "print(\"Floor Div= \",floor)"
   ]
  },
  {
   "cell_type": "code",
   "execution_count": 41,
   "id": "68d2041e-9a83-4188-bd19-415c636547b7",
   "metadata": {},
   "outputs": [
    {
     "name": "stdin",
     "output_type": "stream",
     "text": [
      "a= 10\n",
      "b= 40\n"
     ]
    },
    {
     "name": "stdout",
     "output_type": "stream",
     "text": [
      "Modulo=  10\n"
     ]
    }
   ],
   "source": [
    "a=int(input(\"a=\" )) \n",
    "b=int(input(\"b=\" )) \n",
    "Mod=a%b\n",
    "print(\"Modulo= \",Mod)"
   ]
  },
  {
   "cell_type": "code",
   "execution_count": 45,
   "id": "f44341c6-9c4b-44e3-ba58-bba71cc7ba86",
   "metadata": {},
   "outputs": [
    {
     "name": "stdin",
     "output_type": "stream",
     "text": [
      "a= 4\n",
      "b= 4\n"
     ]
    },
    {
     "name": "stdout",
     "output_type": "stream",
     "text": [
      "Power=  256\n"
     ]
    }
   ],
   "source": [
    "a=int(input(\"a=\" )) \n",
    "b=int(input(\"b=\" )) \n",
    "Power=pow(a,b)\n",
    "print(\"Power= \",Power)"
   ]
  },
  {
   "cell_type": "code",
   "execution_count": null,
   "id": "28c0f936-a1b6-4116-a218-e7ceafe0c2c3",
   "metadata": {},
   "outputs": [],
   "source": []
  },
  {
   "cell_type": "code",
   "execution_count": null,
   "id": "f88b0fb9-e32c-4326-98fb-7742626fe6ba",
   "metadata": {},
   "outputs": [],
   "source": []
  },
  {
   "cell_type": "code",
   "execution_count": null,
   "id": "530fab4b-d063-43cc-a1a5-4963e063b456",
   "metadata": {},
   "outputs": [],
   "source": []
  }
 ],
 "metadata": {
  "kernelspec": {
   "display_name": "Python [conda env:base] *",
   "language": "python",
   "name": "conda-base-py"
  },
  "language_info": {
   "codemirror_mode": {
    "name": "ipython",
    "version": 3
   },
   "file_extension": ".py",
   "mimetype": "text/x-python",
   "name": "python",
   "nbconvert_exporter": "python",
   "pygments_lexer": "ipython3",
   "version": "3.12.7"
  }
 },
 "nbformat": 4,
 "nbformat_minor": 5
}
