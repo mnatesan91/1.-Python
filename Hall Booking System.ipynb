{
 "cells": [
  {
   "cell_type": "code",
   "execution_count": null,
   "id": "ee4105ba-66de-48d7-8b28-631394901513",
   "metadata": {},
   "outputs": [],
   "source": [
    "#Hall Booking System"
   ]
  },
  {
   "cell_type": "code",
   "execution_count": 27,
   "id": "1a7562b6-d1ab-4b71-b4ad-099a556d63ee",
   "metadata": {},
   "outputs": [
    {
     "name": "stdout",
     "output_type": "stream",
     "text": [
      "Hall Booking System Using Control Structures\n",
      "Hall - 1 Seating Alloted: 50\n",
      "Hall - 2 Seating Alloted: 100\n",
      "Hall - 3 Seating Alloted: 40\n"
     ]
    },
    {
     "name": "stdin",
     "output_type": "stream",
     "text": [
      "No.of persons to book in Hall - 1 from 50 Seats:  20\n",
      "No.of persons to book in Hall - 2 from 100 Seats:  200\n",
      "No.of persons to book in Hall - 3 from 40 Seats:  30\n"
     ]
    },
    {
     "name": "stdout",
     "output_type": "stream",
     "text": [
      "No.of Seats booked in Hall - 1:  20\n",
      "No Available Seats in Hall - 2 for 200 Persons\n",
      "No.of Seats booked in Hall - 3:  30\n",
      "Available seats in Hall - 1:  30\n",
      "Available seats in Hall - 2:  100\n",
      "Available seats in Hall - 3:  10\n",
      "Thanks for booking the Halls, Have a Great Day!\n"
     ]
    }
   ],
   "source": [
    "print(\"Hall Booking System Using Control Structures\")\n",
    "Hall1_Allot=50\n",
    "Hall2_Allot=100\n",
    "Hall3_Allot=40\n",
    "print(\"Hall - 1 Seating Alloted:\",Hall1_Allot)\n",
    "print(\"Hall - 2 Seating Alloted:\",Hall2_Allot)\n",
    "print(\"Hall - 3 Seating Alloted:\",Hall3_Allot)\n",
    "\n",
    "Hall1_occu=int(input(\"No.of persons to book in Hall - 1 from \"+str(Hall1_Allot)+\" \"+\"Seats: \"))\n",
    "Hall2_occu=int(input(\"No.of persons to book in Hall - 2 from \"+str(Hall2_Allot)+\" \"+\"Seats: \"))\n",
    "Hall3_occu=int(input(\"No.of persons to book in Hall - 3 from \"+str(Hall3_Allot)+\" \"+\"Seats: \"))\n",
    "\n",
    "Hall1_Remaining=Hall1_Allot-Hall1_occu\n",
    "Hall2_Remaining=Hall2_Allot-Hall2_occu\n",
    "Hall3_Remaining=Hall3_Allot-Hall3_occu\n",
    "\n",
    "if(Hall1_occu<Hall1_Allot):\n",
    "    print(\"No.of Seats booked in Hall - 1: \",Hall1_occu)\n",
    "\n",
    "elif(Hall1_occu==Hall1_Allot):\n",
    "    print(\"No.of Seats booked in Hall - 1: \",Hall1_occu)\n",
    "else:\n",
    "    print(\"No Available Seats in Hall - 1 for \"+str(Hall1_occu)+\" \"+\"Persons\")\n",
    "    Hall1_Remaining=Hall1_Allot\n",
    "\n",
    "if(Hall2_occu<=Hall2_Allot):\n",
    "    \n",
    "    print(\"No.of Seats booked in Hall - 2: \",Hall2_occu)\n",
    "    \n",
    "else:\n",
    "    print(\"No Available Seats in Hall - 2 for \"+str(Hall2_occu)+\" \"+\"Persons\")\n",
    "    Hall2_Remaining=Hall2_Allot\n",
    "\n",
    "\n",
    "if(Hall3_occu<=Hall3_Allot):\n",
    "    \n",
    "    print(\"No.of Seats booked in Hall - 3: \",Hall3_occu)\n",
    "else:\n",
    "    print(\"No Available Seats in Hall - 3 for \"+str(Hall3_occu)+\" \"+\"Persons\")\n",
    "    Hall3_Remaining=Hall3_Allot\n",
    "\n",
    "print(\"Available seats in Hall - 1: \",Hall1_Remaining)\n",
    "print(\"Available seats in Hall - 2: \",Hall2_Remaining)\n",
    "print(\"Available seats in Hall - 3: \",Hall3_Remaining)\n",
    "\n",
    "print (\"Thanks for booking the Halls, Have a Great Day!\")"
   ]
  },
  {
   "cell_type": "code",
   "execution_count": null,
   "id": "03dc94ea-67f0-468e-a744-35a5d3baed04",
   "metadata": {},
   "outputs": [],
   "source": []
  },
  {
   "cell_type": "code",
   "execution_count": null,
   "id": "40835074-46fc-4751-a0b8-a90630b369b5",
   "metadata": {},
   "outputs": [],
   "source": []
  }
 ],
 "metadata": {
  "kernelspec": {
   "display_name": "Python [conda env:base] *",
   "language": "python",
   "name": "conda-base-py"
  },
  "language_info": {
   "codemirror_mode": {
    "name": "ipython",
    "version": 3
   },
   "file_extension": ".py",
   "mimetype": "text/x-python",
   "name": "python",
   "nbconvert_exporter": "python",
   "pygments_lexer": "ipython3",
   "version": "3.12.7"
  }
 },
 "nbformat": 4,
 "nbformat_minor": 5
}
