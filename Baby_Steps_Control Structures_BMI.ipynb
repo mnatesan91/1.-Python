{
 "cells": [
  {
   "cell_type": "code",
   "execution_count": 52,
   "id": "cbd572f9-7529-4a47-a000-e66e7c699e57",
   "metadata": {},
   "outputs": [
    {
     "name": "stdout",
     "output_type": "stream",
     "text": [
      " Welcome to Assignment-1\n"
     ]
    }
   ],
   "source": [
    "print(\" Welcome to Assignment-1\")"
   ]
  },
  {
   "cell_type": "code",
   "execution_count": 56,
   "id": "dbf95757-42b3-4d90-9a77-8dbedabec6fd",
   "metadata": {},
   "outputs": [
    {
     "name": "stdout",
     "output_type": "stream",
     "text": [
      "Num1=  10\n",
      "Num2=  30\n",
      "Add=  40\n"
     ]
    }
   ],
   "source": [
    "Num1= 10\n",
    "Num2= 30\n",
    "print(\"Num1= \",Num1)\n",
    "print(\"Num2= \",Num2)\n",
    "print(\"Add= \",Num1+Num2)"
   ]
  },
  {
   "cell_type": "code",
   "execution_count": null,
   "id": "c28a97a3-6689-4030-8300-34d2d870e380",
   "metadata": {},
   "outputs": [],
   "source": [
    "#Body Mass Index"
   ]
  },
  {
   "cell_type": "code",
   "execution_count": 118,
   "id": "a7cd8bd4-048d-4ec5-a66a-f9f3bd0ca017",
   "metadata": {},
   "outputs": [
    {
     "name": "stdin",
     "output_type": "stream",
     "text": [
      "Enter the Height in Centi Meter:  152\n",
      "Enter the Weight in Kilo gram:  60\n"
     ]
    },
    {
     "name": "stdout",
     "output_type": "stream",
     "text": [
      "Your BMI is:  25.97\n",
      "OverWeight\n",
      "Our Suggestion: Please keep the proper Diet plan & proper cardio excercise\n"
     ]
    }
   ],
   "source": [
    "Height=int(input(\"Enter the Height in Centi Meter: \"))\n",
    "Weight=int(input(\"Enter the Weight in Kilo gram: \"))\n",
    "BMI=round(Weight/pow((Height/100),2),2)\n",
    "print(\"Your BMI is: \",BMI)\n",
    "\n",
    "if(BMI<=18.5):\n",
    "    print(\"Underweight\")\n",
    "    print(\"Our Suggestion: Please take Nutrition Foods\")\n",
    "\n",
    "elif(BMI>18.5 and BMI<=24.90):\n",
    "    print(\"Normal Weight\")\n",
    "    print(\"Our Suggestion: Please keep up the weight\")\n",
    "    \n",
    "elif(BMI>25 and BMI<=29.9):\n",
    "    print(\"OverWeight\")\n",
    "    print(\"Our Suggestion: Please keep the proper Diet plan & proper cardio excercise\")\n",
    "else:\n",
    "    print(\"Obesity\")\n",
    "    print(\"Our Suggestion: Don't loose hope & do routine workouts & excercise\")"
   ]
  },
  {
   "cell_type": "code",
   "execution_count": null,
   "id": "a894f43e-df93-4dee-aa3b-3610174b713d",
   "metadata": {},
   "outputs": [],
   "source": []
  },
  {
   "cell_type": "code",
   "execution_count": null,
   "id": "79154f7e-d481-4566-ab65-20c809b4ece5",
   "metadata": {},
   "outputs": [],
   "source": []
  }
 ],
 "metadata": {
  "kernelspec": {
   "display_name": "Python [conda env:base] *",
   "language": "python",
   "name": "conda-base-py"
  },
  "language_info": {
   "codemirror_mode": {
    "name": "ipython",
    "version": 3
   },
   "file_extension": ".py",
   "mimetype": "text/x-python",
   "name": "python",
   "nbconvert_exporter": "python",
   "pygments_lexer": "ipython3",
   "version": "3.12.7"
  }
 },
 "nbformat": 4,
 "nbformat_minor": 5
}
