{
 "cells": [
  {
   "cell_type": "code",
   "execution_count": 35,
   "id": "5f62f7a4-fd9a-4342-9e73-81ce203cac71",
   "metadata": {},
   "outputs": [
    {
     "name": "stdout",
     "output_type": "stream",
     "text": [
      "Sub-fields in AI are: \n",
      "Machine Learning\n",
      "Neural Networks\n",
      "Vision\n",
      "Robotics\n",
      "Speech Processing\n",
      "Natural Language Processing\n"
     ]
    }
   ],
   "source": [
    "class SubfieldsInAI():\n",
    "    def Subfields():\n",
    "        lists=[\"Machine Learning\",\"Neural Networks\",\"Vision\",\"Robotics\",\"Speech Processing\",\"Natural Language Processing\"]\n",
    "        print(\"Sub-fields in AI are: \")\n",
    "        for subtitle in lists:\n",
    "            print(subtitle)\n",
    "SubfieldsInAI.Subfields()"
   ]
  },
  {
   "cell_type": "code",
   "execution_count": 68,
   "id": "c399b27c-2023-4c7e-9fce-4af5047c4ce1",
   "metadata": {},
   "outputs": [
    {
     "name": "stdin",
     "output_type": "stream",
     "text": [
      "Enter a number:  52452\n"
     ]
    },
    {
     "name": "stdout",
     "output_type": "stream",
     "text": [
      "52452  is Even number\n"
     ]
    }
   ],
   "source": [
    "class OddEven():\n",
    "    def OddEven():\n",
    "        number=int(input(\"Enter a number: \"))\n",
    "        if(number%2==0):\n",
    "            print(number,\" is Even number\")\n",
    "        else:\n",
    "             print(number,\" is Odd number\")\n",
    "\n",
    "OddEven.OddEven()\n"
   ]
  },
  {
   "cell_type": "code",
   "execution_count": 84,
   "id": "18490080-25c5-4f38-b187-65755a73b53b",
   "metadata": {},
   "outputs": [
    {
     "name": "stdin",
     "output_type": "stream",
     "text": [
      "Your Gender:  Male\n",
      "Your Age:  20\n"
     ]
    },
    {
     "name": "stdout",
     "output_type": "stream",
     "text": [
      "NOT ELIGIBLE\n"
     ]
    }
   ],
   "source": [
    "class ElegiblityForMarriage():\n",
    "    def Elegible():\n",
    "        gender=input(\"Your Gender: \")\n",
    "        age=int(input(\"Your Age: \"))\n",
    "        if(gender.upper()==\"MALE\" and age>=21):\n",
    "            print(\"ELIGIBLE\")\n",
    "        elif(gender.upper()==\"FEMALE\" and age>=18):\n",
    "            print(\"ELIGIBLE\")\n",
    "        else:\n",
    "            print(\"NOT ELIGIBLE\")\n",
    "\n",
    "ElegiblityForMarriage.Elegible() "
   ]
  },
  {
   "cell_type": "code",
   "execution_count": 88,
   "id": "b08c9f43-3a5a-4110-a002-c6dd5f345279",
   "metadata": {},
   "outputs": [
    {
     "name": "stdin",
     "output_type": "stream",
     "text": [
      "Subject1=  98\n",
      "Subject2=  87\n",
      "Subject3=  95\n",
      "Subject4=  95\n",
      "Subject5=  93\n"
     ]
    },
    {
     "name": "stdout",
     "output_type": "stream",
     "text": [
      "Total : 468\n",
      "Percentage : 93.6\n"
     ]
    }
   ],
   "source": [
    "class FindPercent():\n",
    "    def percentage():\n",
    "        Subject1=int(input(\"Subject1= \"))\n",
    "        Subject2=int(input(\"Subject2= \"))\n",
    "        Subject3=int(input(\"Subject3= \"))\n",
    "        Subject4=int(input(\"Subject4= \"))\n",
    "        Subject5=int(input(\"Subject5= \"))\n",
    "        Total=Subject1+Subject2+Subject3+Subject4+Subject5\n",
    "        Percentage=Total/5\n",
    "        print(\"Total :\",Total)\n",
    "        print(\"Percentage :\",Percentage)\n",
    "\n",
    "FindPercent.percentage()\n"
   ]
  },
  {
   "cell_type": "code",
   "execution_count": 94,
   "id": "ce22decc-2a8a-4e13-8fdb-f50144efb4ef",
   "metadata": {},
   "outputs": [
    {
     "name": "stdin",
     "output_type": "stream",
     "text": [
      "Calculate Area or Perimeter of Triangle: Area\n",
      "Height:  20\n",
      "Breadth:  30\n"
     ]
    },
    {
     "name": "stdout",
     "output_type": "stream",
     "text": [
      "Area of Triangle: 300.0 square units\n"
     ]
    }
   ],
   "source": [
    "class triangle():\n",
    "    def triangle():\n",
    "        Area_or_Peri=input(\"Calculate Area or Perimeter of Triangle:\")\n",
    "        if(Area_or_Peri.upper()==\"AREA\"):\n",
    "            Height=int(input(\"Height: \"))\n",
    "            Breadth=int(input(\"Breadth: \"))\n",
    "            print(f\"Area of Triangle: {(Height*Breadth)/2 } square units\")\n",
    "        elif(Area_or_Peri.upper()==\"PERIMETER\"):\n",
    "            Side1=int(input(\"Height1: \"))\n",
    "            Side2=int(input(\"Height2: \"))\n",
    "            Side3=int(input(\"Breadth: \"))\n",
    "            print(f\"Perimeter of Triangle: {(Side1+Side2+Sid3)} CM\")\n",
    "        else:\n",
    "            print(\"Please Enter Area or Perimeter\")\n",
    "\n",
    "triangle.triangle()"
   ]
  },
  {
   "cell_type": "code",
   "execution_count": null,
   "id": "e66ba233-8f1b-45bb-9c1f-97c50269673a",
   "metadata": {},
   "outputs": [],
   "source": []
  },
  {
   "cell_type": "code",
   "execution_count": null,
   "id": "a4d4be4a-646c-404e-ac10-a5a47cf6a6ed",
   "metadata": {},
   "outputs": [],
   "source": []
  },
  {
   "cell_type": "code",
   "execution_count": null,
   "id": "a98dc21c-f001-468d-8d42-63b742bbfa55",
   "metadata": {},
   "outputs": [],
   "source": []
  },
  {
   "cell_type": "code",
   "execution_count": null,
   "id": "e6497b2f-667c-4b42-b845-6dde91b1e0b6",
   "metadata": {},
   "outputs": [],
   "source": []
  },
  {
   "cell_type": "code",
   "execution_count": null,
   "id": "6238b4ec-957e-4a9b-a8ed-700b2034023e",
   "metadata": {},
   "outputs": [],
   "source": []
  }
 ],
 "metadata": {
  "kernelspec": {
   "display_name": "Python [conda env:base] *",
   "language": "python",
   "name": "conda-base-py"
  },
  "language_info": {
   "codemirror_mode": {
    "name": "ipython",
    "version": 3
   },
   "file_extension": ".py",
   "mimetype": "text/x-python",
   "name": "python",
   "nbconvert_exporter": "python",
   "pygments_lexer": "ipython3",
   "version": "3.12.7"
  }
 },
 "nbformat": 4,
 "nbformat_minor": 5
}
